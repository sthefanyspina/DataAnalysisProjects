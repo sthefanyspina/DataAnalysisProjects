{
 "cells": [
  {
   "cell_type": "code",
   "execution_count": null,
   "id": "8e976c19-45bb-4289-98f8-5b5a44798117",
   "metadata": {},
   "outputs": [],
   "source": [
    "#import libraries\n",
    "#!pip install kaggle\n",
    "import kaggle"
   ]
  },
  {
   "cell_type": "code",
   "execution_count": null,
   "id": "6698750f-3d5a-4f6a-9485-fbacf5873a20",
   "metadata": {},
   "outputs": [],
   "source": [
    "!kaggle datasets download ankitbansal06/retail-orders -f orders.csv"
   ]
  },
  {
   "cell_type": "code",
   "execution_count": null,
   "id": "6118c415-dabe-46f0-a384-1b40ac289c73",
   "metadata": {},
   "outputs": [],
   "source": [
    "#extract file from zip file\n",
    "import zipfile\n",
    "zip_ref = zipfile.ZipFile('orders.csv.zip') \n",
    "zip_ref.extractall() # extract file to dir\n",
    "zip_ref.close() # close file"
   ]
  },
  {
   "cell_type": "code",
   "execution_count": null,
   "id": "8a7d7fc4-b54f-4769-9df9-0da6d4644008",
   "metadata": {},
   "outputs": [],
   "source": [
    "#read data from the file and handle null values\n",
    "import pandas as pd\n",
    "df = pd.read_csv('orders.csv',na_values=['Not Available','unknown'])\n",
    "df['Ship Mode'].unique()"
   ]
  },
  {
   "cell_type": "code",
   "execution_count": null,
   "id": "1bba371c-6338-4e9a-ab2c-ec407b66f205",
   "metadata": {},
   "outputs": [],
   "source": [
    "#rename columns names ..make them lower case and replace space with underscore\n",
    "#df.rename(columns={'Order Id':'order_id', 'City':'city'})\n",
    "#df.columns=df.columns.str.lower()\n",
    "#df.columns=df.columns.str.replace(' ','_')\n",
    "df.head(5)"
   ]
  },
  {
   "cell_type": "code",
   "execution_count": null,
   "id": "9fbde274-025e-429a-a7f6-6cc4a28e322e",
   "metadata": {},
   "outputs": [],
   "source": [
    "#derive new columns discount , sale price and profit\n",
    "#df['discount']=df['list_price']*df['discount_percent']*.01\n",
    "#df['sale_price']= df['list_price']-df['discount']\n",
    "df['profit']=df['sale_price']-df['cost_price']\n",
    "df"
   ]
  },
  {
   "cell_type": "code",
   "execution_count": null,
   "id": "5f10a34e-197b-4f12-b851-5dc0b6e02f75",
   "metadata": {},
   "outputs": [],
   "source": [
    "#convert order date from object data type to datetime\n",
    "df['order_date']=pd.to_datetime(df['order_date'],format=\"%Y-%m-%d\")"
   ]
  },
  {
   "cell_type": "code",
   "execution_count": null,
   "id": "020c78d0-cfff-437b-83f1-9d9a4d64e0e7",
   "metadata": {},
   "outputs": [],
   "source": [
    "#drop cost price list price and discount percent columns\n",
    "df.drop(columns=['list_price','cost_price','discount_percent'],inplace=True)"
   ]
  },
  {
   "cell_type": "code",
   "execution_count": null,
   "id": "1fc9239f-c1a5-46f0-8de4-acc2973f571e",
   "metadata": {},
   "outputs": [],
   "source": [
    "#load the data into sql server using replace option\n",
    "import sqlalchemy as sal\n",
    "engine = sal.create_engine('mssql://ANKIT\\SQLEXPRESS/master?driver=ODBC+DRIVER+17+FOR+SQL+SERVER')\n",
    "conn=engine.connect()"
   ]
  },
  {
   "cell_type": "code",
   "execution_count": null,
   "id": "a5c7fffe-b660-49a5-969f-8df0281d76f9",
   "metadata": {},
   "outputs": [],
   "source": [
    "#load the data into sql server using append option\n",
    "df.to_sql('df_orders', con=conn , index=False, if_exists = 'append')"
   ]
  }
 ],
 "metadata": {
  "kernelspec": {
   "display_name": "Python 3 (ipykernel)",
   "language": "python",
   "name": "python3"
  },
  "language_info": {
   "codemirror_mode": {
    "name": "ipython",
    "version": 3
   },
   "file_extension": ".py",
   "mimetype": "text/x-python",
   "name": "python",
   "nbconvert_exporter": "python",
   "pygments_lexer": "ipython3",
   "version": "3.12.4"
  }
 },
 "nbformat": 4,
 "nbformat_minor": 5
}
